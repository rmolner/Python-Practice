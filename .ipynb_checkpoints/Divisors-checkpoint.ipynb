{
 "cells": [
  {
   "cell_type": "markdown",
   "id": "05cc095b",
   "metadata": {},
   "source": [
    "https://www.practicepython.org/exercise/2014/02/26/04-divisors.html"
   ]
  },
  {
   "cell_type": "code",
   "execution_count": 4,
   "id": "45646a06",
   "metadata": {},
   "outputs": [
    {
     "name": "stdout",
     "output_type": "stream",
     "text": [
      "Enter a number: 12\n",
      "12 is divisible by [1, 2, 3, 4, 6, 12]\n"
     ]
    }
   ],
   "source": [
    "num = input('Enter a number: ')\n",
    "\n",
    "NumRange = range(1, int(num)+1)\n",
    "\n",
    "divisors = []\n",
    "\n",
    "for x in NumRange:\n",
    "    if int(num) % x == 0:\n",
    "        divisors.append(x)\n",
    "        \n",
    "print(num, 'is divisible by', divisors)"
   ]
  }
 ],
 "metadata": {
  "kernelspec": {
   "display_name": "Python 3 (ipykernel)",
   "language": "python",
   "name": "python3"
  },
  "language_info": {
   "codemirror_mode": {
    "name": "ipython",
    "version": 3
   },
   "file_extension": ".py",
   "mimetype": "text/x-python",
   "name": "python",
   "nbconvert_exporter": "python",
   "pygments_lexer": "ipython3",
   "version": "3.9.12"
  }
 },
 "nbformat": 4,
 "nbformat_minor": 5
}
