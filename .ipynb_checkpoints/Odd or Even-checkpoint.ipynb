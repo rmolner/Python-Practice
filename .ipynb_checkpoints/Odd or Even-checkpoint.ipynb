{
 "cells": [
  {
   "cell_type": "markdown",
   "id": "8521c158",
   "metadata": {},
   "source": [
    "https://www.practicepython.org/exercise/2014/02/05/02-odd-or-even.html"
   ]
  },
  {
   "cell_type": "code",
   "execution_count": 2,
   "id": "74f766ff",
   "metadata": {},
   "outputs": [
    {
     "name": "stdout",
     "output_type": "stream",
     "text": [
      "Enter a number: 13\n",
      "13 is odd.\n"
     ]
    }
   ],
   "source": [
    "number = input('Enter a number: ')\n",
    "if (int(number) % 2) == 0:\n",
    "    print(number + ' is even.')\n",
    "else:\n",
    "    print(number + ' is odd.')"
   ]
  },
  {
   "cell_type": "code",
   "execution_count": 10,
   "id": "4836c1f5",
   "metadata": {},
   "outputs": [
    {
     "name": "stdout",
     "output_type": "stream",
     "text": [
      "Enter a number: 24\n",
      "24 is a multiple of 4.\n"
     ]
    }
   ],
   "source": [
    "number = input('Enter a number: ')\n",
    "if (int(number) % 4) == 0:\n",
    "    print(number + ' is a multiple of 4.')\n",
    "elif (int(number) % 2) == 0:\n",
    "    print(number + ' is even.')\n",
    "else:\n",
    "    print(number + ' is odd.')"
   ]
  },
  {
   "cell_type": "code",
   "execution_count": 13,
   "id": "b170c8e9",
   "metadata": {},
   "outputs": [
    {
     "name": "stdout",
     "output_type": "stream",
     "text": [
      "Enter a number to check: 13\n",
      "Enter a number to divide by: 3\n",
      "13 is not divisible by 3\n"
     ]
    }
   ],
   "source": [
    "num = input('Enter a number to check: ')\n",
    "check = input('Enter a number to divide by: ')\n",
    "if (int(num) % int(check)) == 0:\n",
    "    print (num, ' is divisible by ', check)\n",
    "else:\n",
    "    print (num + ' is not divisible by ' + check)"
   ]
  },
  {
   "cell_type": "code",
   "execution_count": null,
   "id": "b3d98d42",
   "metadata": {},
   "outputs": [],
   "source": []
  }
 ],
 "metadata": {
  "kernelspec": {
   "display_name": "Python 3 (ipykernel)",
   "language": "python",
   "name": "python3"
  },
  "language_info": {
   "codemirror_mode": {
    "name": "ipython",
    "version": 3
   },
   "file_extension": ".py",
   "mimetype": "text/x-python",
   "name": "python",
   "nbconvert_exporter": "python",
   "pygments_lexer": "ipython3",
   "version": "3.9.12"
  }
 },
 "nbformat": 4,
 "nbformat_minor": 5
}
