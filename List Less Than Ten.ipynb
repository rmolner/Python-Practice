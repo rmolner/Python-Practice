{
 "cells": [
  {
   "cell_type": "markdown",
   "id": "5f8f1331",
   "metadata": {},
   "source": [
    "https://www.practicepython.org/exercise/2014/02/15/03-list-less-than-ten.html"
   ]
  },
  {
   "cell_type": "code",
   "execution_count": 1,
   "id": "8ed82724",
   "metadata": {},
   "outputs": [
    {
     "name": "stdout",
     "output_type": "stream",
     "text": [
      "1\n",
      "1\n",
      "2\n",
      "3\n"
     ]
    }
   ],
   "source": [
    "a = [1, 1, 2, 3, 5, 8, 13, 21, 34, 55, 89]\n",
    "\n",
    "for x in a:\n",
    "    if x < 5:\n",
    "        print(x)"
   ]
  },
  {
   "cell_type": "code",
   "execution_count": 2,
   "id": "705a7ace",
   "metadata": {},
   "outputs": [
    {
     "name": "stdout",
     "output_type": "stream",
     "text": [
      "[1, 1, 2, 3]\n"
     ]
    }
   ],
   "source": [
    "print([x for x in a if x < 5])"
   ]
  },
  {
   "cell_type": "code",
   "execution_count": 3,
   "id": "b6bab2b2",
   "metadata": {},
   "outputs": [
    {
     "name": "stdout",
     "output_type": "stream",
     "text": [
      "[1, 1, 2, 3]\n"
     ]
    }
   ],
   "source": [
    "numbers = [1, 1, 2, 3, 5, 8, 13, 21, 34, 55, 89]\n",
    "lessnums = []\n",
    "\n",
    "for x in numbers:\n",
    "    if x < 5:\n",
    "        lessnums.append(x)\n",
    "print(lessnums)"
   ]
  },
  {
   "cell_type": "code",
   "execution_count": 4,
   "id": "30c16bed",
   "metadata": {},
   "outputs": [
    {
     "name": "stdout",
     "output_type": "stream",
     "text": [
      "Enter a number: 18\n",
      "[1, 1, 2, 3, 5, 8, 13]\n"
     ]
    }
   ],
   "source": [
    "b = [1, 1, 2, 3, 5, 8, 13, 21, 34, 55, 89]\n",
    "c= []\n",
    "num = input('Enter a number: ')\n",
    "for x in b:\n",
    "    if x < int(num):\n",
    "        c.append(x)\n",
    "print(c)"
   ]
  },
  {
   "cell_type": "code",
   "execution_count": null,
   "id": "d5b6e7dc",
   "metadata": {},
   "outputs": [],
   "source": []
  }
 ],
 "metadata": {
  "kernelspec": {
   "display_name": "Python 3 (ipykernel)",
   "language": "python",
   "name": "python3"
  },
  "language_info": {
   "codemirror_mode": {
    "name": "ipython",
    "version": 3
   },
   "file_extension": ".py",
   "mimetype": "text/x-python",
   "name": "python",
   "nbconvert_exporter": "python",
   "pygments_lexer": "ipython3",
   "version": "3.9.12"
  }
 },
 "nbformat": 4,
 "nbformat_minor": 5
}
