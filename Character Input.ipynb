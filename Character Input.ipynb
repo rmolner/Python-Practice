{
 "cells": [
  {
   "cell_type": "code",
   "execution_count": 1,
   "id": "9fcab38f",
   "metadata": {},
   "outputs": [
    {
     "name": "stdout",
     "output_type": "stream",
     "text": [
      "What is your name? Rebecca\n",
      "What is your age? 30\n",
      "Rebecca, you will be 100 years old in the year 2093\n"
     ]
    }
   ],
   "source": [
    "name = input('What is your name? ')\n",
    "age = input('What is your age? ')\n",
    "import datetime\n",
    "today = datetime.date.today()\n",
    "current_year = today.year\n",
    "year = int(current_year) - int(age) + 100\n",
    "print(name + \", you will be 100 years old in the year \" + str(year))"
   ]
  },
  {
   "cell_type": "code",
   "execution_count": null,
   "id": "d2ba2439",
   "metadata": {},
   "outputs": [],
   "source": []
  }
 ],
 "metadata": {
  "kernelspec": {
   "display_name": "Python 3 (ipykernel)",
   "language": "python",
   "name": "python3"
  },
  "language_info": {
   "codemirror_mode": {
    "name": "ipython",
    "version": 3
   },
   "file_extension": ".py",
   "mimetype": "text/x-python",
   "name": "python",
   "nbconvert_exporter": "python",
   "pygments_lexer": "ipython3",
   "version": "3.9.12"
  }
 },
 "nbformat": 4,
 "nbformat_minor": 5
}
